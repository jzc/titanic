{
 "cells": [
  {
   "cell_type": "markdown",
   "metadata": {},
   "source": [
    "# Titanic Survival\n",
    "\n",
    "First let's get some preliminary things done first. We'll use pandas, numpy, and matplotlib to start off and also ignore warnings. I also loaded the csv into the variable `df`."
   ]
  },
  {
   "cell_type": "code",
   "execution_count": null,
   "metadata": {
    "collapsed": false
   },
   "outputs": [],
   "source": [
    "%matplotlib inline\n",
    "import numpy as np\n",
    "import matplotlib.pyplot as plt\n",
    "import pandas as pd\n",
    "import warnings\n",
    "\n",
    "warnings.filterwarnings('ignore')\n",
    "plt.style.use(\"ggplot\")\n",
    "\n",
    "df = pd.read_csv(\"titanic_train.csv\")\n",
    "df.head()"
   ]
  },
  {
   "cell_type": "markdown",
   "metadata": {},
   "source": [
    "Using `df.count()`, we can if there is any missing data. In this case, there are some missing values for Age and Embarked, and good chunk missing from from Cabin, so we'll ignore the cabin data in this exploration. To start off, we'll map Age and Embarked numbers to integers and fill all `nan` Age values with the median and all `nan` Embarked values with 2 (embarked from Southhampton)."
   ]
  },
  {
   "cell_type": "code",
   "execution_count": null,
   "metadata": {
    "collapsed": false,
    "scrolled": true
   },
   "outputs": [],
   "source": [
    "df.count()"
   ]
  },
  {
   "cell_type": "code",
   "execution_count": null,
   "metadata": {
    "collapsed": false
   },
   "outputs": [],
   "source": [
    "sex_map = {\"male\": 0, \"female\":1}\n",
    "embarked_map = {\"C\": 0, \"Q\": 1, \"S\": 2}\n",
    "df[\"Sex\"] = df[\"Sex\"].replace(sex_map)\n",
    "df[\"Embarked\"] = df[\"Embarked\"].replace(embarked_map)\n",
    "df[\"Age\"] = df[\"Age\"].fillna(df[\"Age\"].median())\n",
    "df[\"Embarked\"] = df[\"Embarked\"].fillna(2)\n",
    "df.head()"
   ]
  },
  {
   "cell_type": "markdown",
   "metadata": {},
   "source": [
    "Now we can start to look at the data visually. Let's make some histograms looking at survival between different variables. The first one is perhaps the most obvious; survival by gender. From the graph, it is easy to see that most (~75%) females survived while only some (~25%) of the men survived, which follows the code of conduct of [women and children first](https://en.wikipedia.org/wiki/Women_and_children_first)."
   ]
  },
  {
   "cell_type": "code",
   "execution_count": null,
   "metadata": {
    "collapsed": false
   },
   "outputs": [],
   "source": [
    "plt.figure(figsize=(14,8))\n",
    "plt.hist([df.loc[df[\"Survived\"] == 1, \"Sex\"], df.loc[df[\"Survived\"] == 0, \"Sex\"]], \n",
    "         stacked=True,\n",
    "         bins=range(3),\n",
    "         align=\"left\",\n",
    "         color=[\"seagreen\", \"lightcoral\"],\n",
    "         rwidth=.45)\n",
    "plt.title(\"Survival by Gender\")\n",
    "plt.ylabel(\"Number of Passengers\")\n",
    "plt.xlabel(\"Gender\")\n",
    "plt.xticks((0,1), (\"Male\", \"Female\"))\n",
    "plt.legend((\"Survived\", \"Dead\"))"
   ]
  },
  {
   "cell_type": "markdown",
   "metadata": {},
   "source": [
    "Next let's take a look at the survival by age. Once again, this also follows the conduct of women and children first. In the ages below 10, a majority of each bin is green, meaning that you are more likely to survive if you are younger. "
   ]
  },
  {
   "cell_type": "code",
   "execution_count": null,
   "metadata": {
    "collapsed": false
   },
   "outputs": [],
   "source": [
    "plt.figure(figsize=(14,8))\n",
    "plt.hist([df.loc[df[\"Survived\"] == 1, \"Age\"], df.loc[df[\"Survived\"] == 0, \"Age\"]], \n",
    "         stacked=True,\n",
    "         bins=20, \n",
    "         color=[\"seagreen\", \"lightcoral\"])\n",
    "plt.title(\"Survival by Age\")\n",
    "plt.ylabel(\"Number of Passengers\")\n",
    "plt.xlabel(\"Age\")\n",
    "plt.legend((\"Survived\", \"Dead\"))"
   ]
  },
  {
   "cell_type": "markdown",
   "metadata": {},
   "source": [
    "Looking at the survival by fare, if you your fare was lest, you are less likely to survive. As the fare goes up, you are more likely to survive, which is consistent with the history of the Titantic."
   ]
  },
  {
   "cell_type": "code",
   "execution_count": null,
   "metadata": {
    "collapsed": false
   },
   "outputs": [],
   "source": [
    "plt.figure(figsize=(14,8))\n",
    "plt.hist([df.loc[df[\"Survived\"] == 1, \"Fare\"], df.loc[df[\"Survived\"] == 0, \"Fare\"]], \n",
    "         stacked=True,\n",
    "         bins=25, \n",
    "         color=[\"seagreen\", \"lightcoral\"])\n",
    "plt.title(\"Survival by Fare\")\n",
    "plt.xlabel(\"Fare\")\n",
    "plt.ylabel(\"Number of Passengers\")\n",
    "plt.legend((\"Survived\", \"Dead\"))"
   ]
  },
  {
   "cell_type": "markdown",
   "metadata": {},
   "source": [
    "One small tangent related to pandas is on the subject of selecting columns and something called chaining. The easiest way to describe see if you're chaining is when there are there is a left and right bracket back to back, which would indicate chaining. The developers generally recomend against chaining because it can yield unpredictable results as to whether a view of the data is returned or a copy of the data. Instead, use the `.loc` property to select certain rows and certain columns. Using `.loc` can also yield slightly better performance. The first code snippet is an example of accessing via chaining while the second example uses `.loc`.  "
   ]
  },
  {
   "cell_type": "code",
   "execution_count": null,
   "metadata": {
    "collapsed": false
   },
   "outputs": [],
   "source": [
    "%timeit df[df[\"Survived\"] == 1][\"Fare\"]"
   ]
  },
  {
   "cell_type": "code",
   "execution_count": null,
   "metadata": {
    "collapsed": false
   },
   "outputs": [],
   "source": [
    "%timeit df.loc[df[\"Survived\"] == 1, \"Fare\"]"
   ]
  },
  {
   "cell_type": "markdown",
   "metadata": {},
   "source": [
    "Back to the analysis of data, let's take a look at survival by the class of the passenger. The classes are a general representation of the passenger's socioeconomic status, with first class being of the highest status and the third being the lowest. The data shows that you have a higher chance of surving the higher your class is."
   ]
  },
  {
   "cell_type": "code",
   "execution_count": null,
   "metadata": {
    "collapsed": false,
    "scrolled": false
   },
   "outputs": [],
   "source": [
    "plt.figure(figsize=(14,8))\n",
    "plt.hist([df.loc[df[\"Survived\"] == 1, \"Pclass\"], df.loc[df[\"Survived\"] == 0, \"Pclass\"]], \n",
    "         stacked=True,\n",
    "         bins=np.arange(1,5), \n",
    "         color=[\"seagreen\", \"lightcoral\"],\n",
    "         align=\"left\",\n",
    "         rwidth=.5)\n",
    "plt.title(\"Survival by Pclass\")\n",
    "plt.xlabel(\"Class\")\n",
    "plt.xticks((1,2,3),(\"1st\", \"2nd\", \"3rd\"))\n",
    "plt.ylabel(\"Number of Passengers\")\n",
    "plt.legend((\"Survived\", \"Dead\"))"
   ]
  },
  {
   "cell_type": "markdown",
   "metadata": {},
   "source": [
    "This is also in line with our data if we take a look at a scatter plot of class vs fare. On average, first class pays more for their fare than second and third class."
   ]
  },
  {
   "cell_type": "code",
   "execution_count": null,
   "metadata": {
    "collapsed": false
   },
   "outputs": [],
   "source": [
    "plt.figure(figsize=(14,8))\n",
    "plt.scatter(df[\"Pclass\"], df[\"Fare\"])\n",
    "plt.scatter((1,2,3), (df.loc[df[\"Pclass\"] == 1, \"Fare\"].mean(), \n",
    "                      df.loc[df[\"Pclass\"] == 2, \"Fare\"].mean(),\n",
    "                      df.loc[df[\"Pclass\"] == 3, \"Fare\"].mean()),\n",
    "            color=\"r\",\n",
    "            marker=\"D\",\n",
    "            s=50)\n",
    "plt.title(\"Class vs Fare\")\n",
    "plt.xlabel(\"Class\")\n",
    "plt.xticks((1,2,3),(\"1st\", \"2nd\", \"3rd\"))\n",
    "plt.ylabel(\"Fare\")\n",
    "plt.legend((\"Individual\", \"Average\"))"
   ]
  },
  {
   "cell_type": "markdown",
   "metadata": {},
   "source": [
    "Another part of the data to look at is the name. The thing that all names have in common the data is they have a title. Let's extract those and find out their counts."
   ]
  },
  {
   "cell_type": "code",
   "execution_count": null,
   "metadata": {
    "collapsed": false
   },
   "outputs": [],
   "source": [
    "def create_titles(df):\n",
    "    for name in df[\"Name\"]:\n",
    "        df.loc[df[\"Name\"] == name, \"Title\"] = name[name.index(\",\") + 2:name.index(\".\")]\n",
    "        \n",
    "create_titles(df)\n",
    "df[\"Title\"].value_counts()"
   ]
  },
  {
   "cell_type": "markdown",
   "metadata": {},
   "source": [
    "Mr, Miss, Mrs, and Master are the most common titles. Their are some miscellaneous titles that don't appear that much, so they will be disregarded in predictions. Something to improve uppon is to map these miscellaneous titles to the more common ones. For example Mme is French for Madame, which can be mapped to Mrs while Ms, an abbreviation for miss, can be mapped to Miss. For now, we will map each of these titles to a unique integer."
   ]
  },
  {
   "cell_type": "code",
   "execution_count": null,
   "metadata": {
    "collapsed": false,
    "scrolled": true
   },
   "outputs": [],
   "source": [
    "title_map = {t:i for i, t in enumerate(df[\"Title\"].unique())}\n",
    "df = df.replace(title_map)\n",
    "df.head()"
   ]
  },
  {
   "cell_type": "markdown",
   "metadata": {},
   "source": [
    "Now that we have titles mapped out, let's visualize them. Once again, this is consistent with the history, showing that women and children are much more likely to survive."
   ]
  },
  {
   "cell_type": "code",
   "execution_count": null,
   "metadata": {
    "collapsed": false
   },
   "outputs": [],
   "source": [
    "plt.figure(figsize=(14,8))\n",
    "plt.hist([df.loc[df[\"Survived\"] == 1, \"Title\"], df.loc[df[\"Survived\"] == 0, \"Title\"]], \n",
    "         stacked=True,\n",
    "         bins=np.arange(len(title_map) + 1), \n",
    "         color=[\"seagreen\", \"lightcoral\"],\n",
    "         align=\"left\")\n",
    "plt.title(\"Survival by Title\")\n",
    "plt.xlabel(\"Class\")\n",
    "plt.xticks(list(title_map.values()),list(title_map.keys()), rotation=45)\n",
    "plt.ylabel(\"Number of Passengers\")\n",
    "plt.legend((\"Survived\", \"Dead\"))"
   ]
  },
  {
   "cell_type": "markdown",
   "metadata": {},
   "source": [
    "One more thing small improvement we can make is filling missing data for age. We originally just fill missing ages with the median, but we can do better. Every data point has a name, so it has a title. Titles have a correlation with age, as seen in the scatter plot below. "
   ]
  },
  {
   "cell_type": "code",
   "execution_count": null,
   "metadata": {
    "collapsed": false
   },
   "outputs": [],
   "source": [
    "plt.figure(figsize=(14,8))\n",
    "plt.scatter(df[\"Title\"], df[\"Age\"])\n",
    "average_age = {v:df.loc[df[\"Title\"] == v, \"Age\"].mean() for v in title_map.values()}\n",
    "plt.scatter(list(average_age.keys()), list(average_age.values()),\n",
    "            color=\"red\",\n",
    "            marker=\"D\",\n",
    "            s=50)\n",
    "plt.title(\"Title vs Age\")\n",
    "plt.xlabel(\"Title\")\n",
    "plt.xticks(list(title_map.values()), list(title_map.keys()), rotation=45)\n",
    "plt.ylabel(\"Age\")\n",
    "plt.legend((\"Individual\", \"Average\"))\n"
   ]
  },
  {
   "cell_type": "markdown",
   "metadata": {},
   "source": [
    "Let's reload the data into a temporary data frame and instead fill the missing ages with the average age of their title, and then put that back into the main dataframe."
   ]
  },
  {
   "cell_type": "code",
   "execution_count": null,
   "metadata": {
    "collapsed": false,
    "scrolled": true
   },
   "outputs": [],
   "source": [
    "temp = pd.read_csv(\"titanic_train.csv\")\n",
    "age = temp[\"Age\"].fillna(df[\"Title\"].replace(average_age))\n",
    "df[\"Age\"] = age\n",
    "df.head()"
   ]
  },
  {
   "cell_type": "markdown",
   "metadata": {},
   "source": [
    "Now time to make predictions. I will use a RandomForestClassifier to start off. This preliminary fit shows us the importantce of each feature "
   ]
  },
  {
   "cell_type": "code",
   "execution_count": null,
   "metadata": {
    "collapsed": false,
    "scrolled": true
   },
   "outputs": [],
   "source": [
    "from sklearn.ensemble import RandomForestClassifier\n",
    "from sklearn.grid_search import GridSearchCV\n",
    "\n",
    "X = df[[\"PassengerId\", \"Pclass\", \"Sex\", \"Age\", \"SibSp\", \"Parch\", \"Fare\", \"Embarked\", \"Title\"]]\n",
    "X[X[\"Title\"]> 3] = 4\n",
    "y = df[\"Survived\"]\n",
    "clf = RandomForestClassifier()\n",
    "clf.fit(X,y)\n",
    "{c:i for c, i in zip(X.columns, clf.feature_importances_)}"
   ]
  },
  {
   "cell_type": "markdown",
   "metadata": {},
   "source": [
    "Now, I'll do a GridSearchCV, with these parameters and see what our results are."
   ]
  },
  {
   "cell_type": "code",
   "execution_count": null,
   "metadata": {
    "collapsed": false
   },
   "outputs": [],
   "source": [
    "grid = GridSearchCV(clf, {\"n_estimators\": [200,225,250,275,300], \n",
    "                          \"criterion\": [\"gini\",\"entropy\"]},\n",
    "                    scoring=\"accuracy\")\n",
    "grid.fit(X, y)"
   ]
  },
  {
   "cell_type": "code",
   "execution_count": null,
   "metadata": {
    "collapsed": false,
    "scrolled": true
   },
   "outputs": [],
   "source": [
    "print(grid.best_params_)\n",
    "print(grid.best_score_)"
   ]
  },
  {
   "cell_type": "code",
   "execution_count": null,
   "metadata": {
    "collapsed": false
   },
   "outputs": [],
   "source": [
    "test = pd.read_csv(\"titanic_test.csv\")\n",
    "test[\"Sex\"] = test[\"Sex\"].replace(sex_map)\n",
    "test[\"Embarked\"] = test[\"Embarked\"].replace(embarked_map)\n",
    "test[\"Fare\"] = test[\"Fare\"].fillna(test[\"Fare\"].median())\n",
    "create_titles(test)\n",
    "test[\"Title\"] = test[\"Title\"].replace(title_map).replace(\"Dona\", 4)\n",
    "test_average_age = {v:test.loc[test[\"Title\"] == v, \"Age\"].mean() for v in title_map.values()}\n",
    "test[\"Age\"] = test[\"Age\"].fillna(test[\"Title\"].replace(test_average_age)).fillna(test[\"Age\"].median())\n",
    "test.loc[test[\"Title\"] > 3, \"Title\"] = 4\n",
    "test = test[[\"PassengerId\", \"Pclass\", \"Sex\", \"Age\", \"SibSp\", \"Parch\", \"Fare\", \"Embarked\", \"Title\"]]\n",
    "test[\"Survived\"] = grid.best_estimator_.predict(test)"
   ]
  },
  {
   "cell_type": "markdown",
   "metadata": {},
   "source": [
    "There is still more work I can do to improve this score, but it is a pretty good start. More specifically analyzing and making features from Ticket, Cabin, Sibsp, and Parch, as well as trying different classifiers out. One question I also want to try and find out is whether discrete features (Pclass, Embarked, Title) should be treated as one feature or `n` seperate features where `n` is the number of unique features. For example, should `Pclass` be one feature that can take on the value of 1, 2, or 3 or should it be three features of `isPclass1`, `isPclass2`, and `isPclass3`, with a 1 if it is that value?"
   ]
  },
  {
   "cell_type": "code",
   "execution_count": null,
   "metadata": {
    "collapsed": true
   },
   "outputs": [],
   "source": [
    "test.to_csv(\"predictions.csv\", index=False, columns=[\"PassengerId\", \"Survived\"])"
   ]
  }
 ],
 "metadata": {
  "anaconda-cloud": {},
  "kernelspec": {
   "display_name": "Python [Root]",
   "language": "python",
   "name": "Python [Root]"
  },
  "language_info": {
   "codemirror_mode": {
    "name": "ipython",
    "version": 3
   },
   "file_extension": ".py",
   "mimetype": "text/x-python",
   "name": "python",
   "nbconvert_exporter": "python",
   "pygments_lexer": "ipython3",
   "version": "3.5.2"
  }
 },
 "nbformat": 4,
 "nbformat_minor": 0
}
